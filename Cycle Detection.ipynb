{
 "cells": [
  {
   "cell_type": "code",
   "execution_count": 17,
   "id": "251427d4",
   "metadata": {},
   "outputs": [],
   "source": [
    "edges = ((1,2),(2,3),(2,4),(4,5),(6,5),(5,7),(7,6),(7,8),(8,9))"
   ]
  },
  {
   "cell_type": "code",
   "execution_count": 18,
   "id": "59197f79",
   "metadata": {},
   "outputs": [],
   "source": [
    "class Graph:\n",
    "    def __init__(self, nodes):\n",
    "        self.vertices = nodes\n",
    "        self.adj_list = {}\n",
    "        \n",
    "        for node in nodes:\n",
    "            self.adj_list[node] = []\n",
    "    \n",
    "    def add_edges(self, u, v):\n",
    "        self.adj_list[u].append(v)\n",
    "        self.adj_list[v].append(u)\n",
    "    \n",
    "    def print_adj_list(self):\n",
    "        for node in self.adj_list:\n",
    "            print(node, \" -> \", self.adj_list[node])"
   ]
  },
  {
   "cell_type": "code",
   "execution_count": 19,
   "id": "f6c2e763",
   "metadata": {},
   "outputs": [
    {
     "name": "stdout",
     "output_type": "stream",
     "text": [
      "1  ->  [2]\n",
      "2  ->  [1, 3, 4]\n",
      "3  ->  [2]\n",
      "4  ->  [2, 5]\n",
      "5  ->  [4, 6, 7]\n",
      "6  ->  [5, 7]\n",
      "7  ->  [5, 6, 8]\n",
      "8  ->  [7, 9]\n",
      "9  ->  [8]\n"
     ]
    }
   ],
   "source": [
    "nodes = [1, 2, 3, 4, 5, 6, 7, 8, 9]\n",
    "graph = Graph(nodes)\n",
    "\n",
    "for u,v in edges:\n",
    "    graph.add_edges(u, v)\n",
    "\n",
    "graph.print_adj_list()"
   ]
  },
  {
   "cell_type": "code",
   "execution_count": 20,
   "id": "2f061402",
   "metadata": {},
   "outputs": [],
   "source": [
    "from collections import deque\n",
    "def bfs(graph, node, visited = []):\n",
    "    visited.append(node)\n",
    "    queue = deque()\n",
    "    queue.append(node)\n",
    "    while queue:\n",
    "        x = queue.popleft()\n",
    "        print(x, end = \" \")\n",
    "        for child in graph.adj_list[x]:\n",
    "            if child not in visited:\n",
    "                queue.append(child)\n",
    "                visited.append(child)"
   ]
  },
  {
   "cell_type": "code",
   "execution_count": 21,
   "id": "d0c23e61",
   "metadata": {},
   "outputs": [
    {
     "name": "stdout",
     "output_type": "stream",
     "text": [
      "BFS:\n",
      "1 2 3 4 5 6 7 8 9 \n",
      "Components: 1\n"
     ]
    }
   ],
   "source": [
    "visited = []\n",
    "components = 0\n",
    "print(\"BFS:\")\n",
    "for node in nodes:\n",
    "    if node not in visited:\n",
    "        bfs(graph, node, visited)\n",
    "        components += 1\n",
    "print(\"\\nComponents:\",components)"
   ]
  },
  {
   "cell_type": "code",
   "execution_count": 22,
   "id": "305dd8e6",
   "metadata": {},
   "outputs": [],
   "source": [
    "def cycle_detection(graph, node, parent, visited = []):\n",
    "    queue = deque()\n",
    "    queue.append(node)\n",
    "    visited.append(node)\n",
    "    while queue:\n",
    "        x = queue.popleft()\n",
    "        for i in graph.adj_list[x]:\n",
    "            if i not in visited:\n",
    "                queue.append(i)                \n",
    "                visited.append(i)\n",
    "                parent[i] = x\n",
    "            elif parent[x] != i:\n",
    "                return True\n",
    "    return False"
   ]
  },
  {
   "cell_type": "code",
   "execution_count": 23,
   "id": "b4c22fc4",
   "metadata": {},
   "outputs": [
    {
     "name": "stdout",
     "output_type": "stream",
     "text": [
      "True\n",
      "[-1, -1, 1, 2, 2, 4, 5, 5, -1, -1]\n"
     ]
    }
   ],
   "source": [
    "parent = [-1]*(len(nodes) + 1)\n",
    "x = False\n",
    "for node in nodes:\n",
    "    if (cycle_detection(graph, node, parent)) == True:\n",
    "        x = True\n",
    "        break\n",
    "\n",
    "if x == True:\n",
    "    print(\"True\")\n",
    "else:\n",
    "    print(\"False\")\n",
    "print(parent)"
   ]
  },
  {
   "cell_type": "code",
   "execution_count": 24,
   "id": "42b0c8ec",
   "metadata": {},
   "outputs": [
    {
     "name": "stdout",
     "output_type": "stream",
     "text": [
      "True\n",
      "[-1, -1, -1, -1]\n"
     ]
    }
   ],
   "source": [
    "e = ((1,2),(2,3))\n",
    "n = [1,2,3]\n",
    "p = [-1]*(len(n) + 1)\n",
    "g = Graph(n)\n",
    "for u,v in e:\n",
    "    g.add_edges(u, v)\n",
    "\n",
    "y = cycle_detection(g, 1, p)\n",
    "\n",
    "if y == True:\n",
    "    print(\"True\")\n",
    "else:\n",
    "    print(\"False\")\n",
    "print(p)"
   ]
  },
  {
   "cell_type": "code",
   "execution_count": 25,
   "id": "79fb2963",
   "metadata": {},
   "outputs": [],
   "source": [
    "def dfs(graph, node, visited = []):\n",
    "    visited.append(node)\n",
    "    print(node, end = \" \")\n",
    "    for i in graph.adj_list[node]:\n",
    "        if i not in visited:\n",
    "            dfs(graph, i, visited)"
   ]
  },
  {
   "cell_type": "code",
   "execution_count": 26,
   "id": "38d0f1a8",
   "metadata": {},
   "outputs": [
    {
     "name": "stdout",
     "output_type": "stream",
     "text": [
      "1 2 3 4 5 6 7 8 9 \n",
      "Components:  1\n"
     ]
    }
   ],
   "source": [
    "components = 0\n",
    "visited = []\n",
    "for node in nodes:\n",
    "    if node not in visited:\n",
    "        dfs(graph, node, visited)\n",
    "        components += 1\n",
    "print(\"\\nComponents: \",components)"
   ]
  },
  {
   "cell_type": "code",
   "execution_count": 27,
   "id": "64b57a43",
   "metadata": {},
   "outputs": [],
   "source": [
    "def cycle_detection_dfs(graph, node, parent, visited = []):\n",
    "    visited.append(node)\n",
    "    for i in graph.adj_list[node]:\n",
    "        if i not in visited:\n",
    "            visited.append(i)\n",
    "            parent[i] = node\n",
    "            cycle_detection_dfs(graph, i, parent, visited)\n",
    "        elif i != parent[node]:\n",
    "            return True\n",
    "    return False\n"
   ]
  },
  {
   "cell_type": "code",
   "execution_count": 28,
   "id": "3641c3fe",
   "metadata": {},
   "outputs": [
    {
     "name": "stdout",
     "output_type": "stream",
     "text": [
      "True\n"
     ]
    }
   ],
   "source": [
    "for node in nodes:\n",
    "    if cycle_detection_dfs(graph, node, parent):\n",
    "        x = True\n",
    "        break\n",
    "if x == True:\n",
    "    print(\"True\")\n",
    "else:\n",
    "    print(\"False\")"
   ]
  },
  {
   "cell_type": "code",
   "execution_count": 29,
   "id": "56f67390",
   "metadata": {},
   "outputs": [
    {
     "name": "stdout",
     "output_type": "stream",
     "text": [
      "False\n"
     ]
    }
   ],
   "source": [
    "y = cycle_detection_dfs(g, 1, p, [])\n",
    "\n",
    "if y == True:\n",
    "    print(\"True\")\n",
    "else:\n",
    "    print(\"False\")"
   ]
  },
  {
   "cell_type": "code",
   "execution_count": 64,
   "id": "64346322",
   "metadata": {},
   "outputs": [],
   "source": [
    "edges = [[1,0]]"
   ]
  },
  {
   "cell_type": "code",
   "execution_count": 65,
   "id": "2ed42295",
   "metadata": {},
   "outputs": [],
   "source": [
    "class Directed_Graph:\n",
    "    def __init__(self, nodes):\n",
    "        self.nodes = nodes\n",
    "        self.adj_list = {}\n",
    "        \n",
    "        for node in nodes:\n",
    "            self.adj_list[node] = []\n",
    "        \n",
    "    def add_edges(self, u, v):\n",
    "        self.adj_list[u].append(v)\n",
    "    \n",
    "    def print_adj_list(self):\n",
    "        for node in self.nodes:\n",
    "            print(node, \" -> \", self.adj_list[node])"
   ]
  },
  {
   "cell_type": "code",
   "execution_count": 66,
   "id": "f5f67e65",
   "metadata": {},
   "outputs": [
    {
     "name": "stdout",
     "output_type": "stream",
     "text": [
      "0  ->  []\n",
      "1  ->  [0]\n"
     ]
    }
   ],
   "source": [
    "nodes = [0, 1]\n",
    "dir_graph = Directed_Graph(nodes)\n",
    "for u , v in edges:\n",
    "    dir_graph.add_edges(u, v)\n",
    "dir_graph.print_adj_list()"
   ]
  },
  {
   "cell_type": "code",
   "execution_count": 67,
   "id": "29e67c04",
   "metadata": {},
   "outputs": [],
   "source": [
    "def topo(graph, node, visited):\n",
    "    visited.add(node)\n",
    "    for nei in graph.adj_list[node]:\n",
    "        if nei not in visited:\n",
    "            visited.add(nei)\n",
    "            topo(graph, nei, visited)\n",
    "    graph.st.append(node)"
   ]
  },
  {
   "cell_type": "code",
   "execution_count": 68,
   "id": "3cbe6aed",
   "metadata": {},
   "outputs": [
    {
     "name": "stdout",
     "output_type": "stream",
     "text": [
      "1\n",
      "0\n",
      "False\n"
     ]
    }
   ],
   "source": [
    "dir_graph.st = []\n",
    "visited = set()\n",
    "for node in nodes:\n",
    "    if node not in visited:\n",
    "        topo(dir_graph, node, visited)\n",
    "\n",
    "st = dir_graph.st\n",
    "pos = {}\n",
    "i = 0\n",
    "flag = 0\n",
    "while len(dir_graph.st) != 0:\n",
    "    pos[st[-1]] = i\n",
    "    i += 1\n",
    "    print(st.pop())\n",
    "for node in nodes:\n",
    "    for nei in dir_graph.adj_list[node]:\n",
    "        if nei not in pos:\n",
    "            first = 0\n",
    "            second = 0\n",
    "        else:\n",
    "            first = pos[node]\n",
    "            second = pos[nei]\n",
    "        if first > second:\n",
    "            flag = 1\n",
    "            print(\"True\")\n",
    "            break\n",
    "    if flag == 1:\n",
    "        break\n",
    "if flag != 1:\n",
    "    print(\"False\")"
   ]
  },
  {
   "cell_type": "code",
   "execution_count": null,
   "id": "b410018f",
   "metadata": {},
   "outputs": [],
   "source": []
  }
 ],
 "metadata": {
  "kernelspec": {
   "display_name": "Python 3 (ipykernel)",
   "language": "python",
   "name": "python3"
  },
  "language_info": {
   "codemirror_mode": {
    "name": "ipython",
    "version": 3
   },
   "file_extension": ".py",
   "mimetype": "text/x-python",
   "name": "python",
   "nbconvert_exporter": "python",
   "pygments_lexer": "ipython3",
   "version": "3.9.13"
  }
 },
 "nbformat": 4,
 "nbformat_minor": 5
}
